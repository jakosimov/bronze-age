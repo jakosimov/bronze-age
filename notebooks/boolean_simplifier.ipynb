{
 "cells": [
  {
   "cell_type": "code",
   "execution_count": 32,
   "metadata": {},
   "outputs": [
    {
     "data": {
      "text/plain": [
       "{'input': {'y_0': [{'rule': 'c_0 & ~c_1 & ~c_2', 'count': 1980, 'index': 2}],\n",
       "  'y_1': [{'rule': '~c_0 & ~c_1 & c_2', 'count': 10, 'index': 1}],\n",
       "  'y_2': [{'rule': '~c_0 & c_1 & ~c_2', 'count': 10, 'index': 1}]},\n",
       " 'StoneAgeLayer-0': {'y_0': [{'rule': 's_0 & ~s_1 & ~s_2 & s_0_count>0 & s_0_count>1 & s_0_count>2 & s_0_count>3 & s_0_count>4 & s_0_count>5 & s_0_count>6 & s_0_count>7 & s_0_count>8 & s_1_count>0 & s_2_count>0 & s_2_count>1 & s_2_count>2 & s_2_count>3 & s_2_count>4 & s_2_count>5 & s_2_count>6 & s_2_count>7 & ~s_1_count>s_0_count & ~s_2_count>s_0_count',\n",
       "    'count': 594,\n",
       "    'index': 2}],\n",
       "  'y_1': [{'rule': 's_0 & ~s_1 & ~s_2 & s_0_count>0 & s_0_count>1 & s_0_count>2 & s_0_count>3 & s_0_count>4 & s_0_count>5 & s_0_count>6 & s_0_count>7 & s_0_count>8 & s_1_count>0 & s_1_count>1 & s_1_count>2 & s_1_count>3 & s_1_count>4 & s_1_count>5 & s_2_count>0 & s_2_count>1 & s_2_count>2 & s_2_count>3 & s_2_count>4 & s_2_count>5 & s_2_count>6 & ~s_2_count>7 & ~s_2_count>8 & ~s_2_count>9 & s_0_count>s_2_count & ~s_1_count>s_0_count & ~s_2_count>s_0_count',\n",
       "    'count': 88,\n",
       "    'index': 3}],\n",
       "  'y_2': [{'rule': 's_0 & ~s_1 & ~s_2 & s_0_count>0 & s_0_count>1 & s_0_count>2 & s_0_count>3 & s_0_count>4 & s_0_count>5 & s_0_count>6 & s_0_count>7 & s_0_count>8 & ~s_2_count>6 & ~s_2_count>8 & ~s_2_count>9 & s_0_count>s_2_count & ~s_2_count>s_0_count',\n",
       "    'count': 1078,\n",
       "    'index': 0},\n",
       "   {'rule': 's_0_count>0 & s_0_count>1 & s_0_count>2 & s_0_count>3 & s_0_count>4 & s_0_count>5 & s_0_count>6 & s_0_count>7 & s_0_count>8 & ~s_2_count>8 & ~s_2_count>9 & s_0_count>s_2_count & ~s_1_count>s_0_count & ~s_2_count>s_0_count',\n",
       "    'count': 240,\n",
       "    'index': 1}]},\n",
       " 'output': {'y_0': [{'rule': 'c_0 & ~c_1 & ~c_2 & c_3 & ~c_4 & ~c_5',\n",
       "    'count': 594,\n",
       "    'index': 0}],\n",
       "  'y_1': [{'rule': '~c_3 & c_5', 'count': 20, 'index': 0},\n",
       "   {'rule': 'c_0 & ~c_1 & ~c_2 & ~c_3', 'count': 88, 'index': 1},\n",
       "   {'rule': 'c_0 & ~c_1 & ~c_2 & ~c_3 & c_5', 'count': 1298, 'index': 2}]}}"
      ]
     },
     "execution_count": 32,
     "metadata": {},
     "output_type": "execute_result"
    }
   ],
   "source": [
    "import sympy\n",
    "import json\n",
    "from pathlib import Path\n",
    "rule_path = \"lightning_logs/28/03/25 12:31 Simple_Saturation mlp/CV_1/explanations_cm.txt\"\n",
    "# parse json\n",
    "NUM_STATES = 3\n",
    "BOUNDING_PARAMETER = 10\n",
    "explanations = json.loads(Path(rule_path).read_text())\n",
    "explanations"
   ]
  },
  {
   "cell_type": "code",
   "execution_count": null,
   "metadata": {},
   "outputs": [
    {
     "name": "stdout",
     "output_type": "stream",
     "text": [
      "> [{'rule': 'c_0 & ~c_1 & ~c_2', 'count': 1980, 'index': 2}]\n",
      "[c_0 & ~c_1 & ~c_2]\n",
      "> [{'rule': '~c_0 & ~c_1 & c_2', 'count': 10, 'index': 1}]\n",
      "[c_2 & ~c_0 & ~c_1]\n",
      "> [{'rule': '~c_0 & c_1 & ~c_2', 'count': 10, 'index': 1}]\n",
      "[c_1 & ~c_0 & ~c_2]\n"
     ]
    },
    {
     "ename": "Exception",
     "evalue": "stop",
     "output_type": "error",
     "traceback": [
      "\u001b[0;31m---------------------------------------------------------------------------\u001b[0m",
      "\u001b[0;31mException\u001b[0m                                 Traceback (most recent call last)",
      "Cell \u001b[0;32mIn[54], line 52\u001b[0m\n\u001b[1;32m     50\u001b[0m         simplified_rule \u001b[38;5;241m=\u001b[39m simplify(disjoint_rules)\n\u001b[1;32m     51\u001b[0m         per_y_rules[layer][key] \u001b[38;5;241m=\u001b[39m simplified_rule\n\u001b[0;32m---> 52\u001b[0m     \u001b[38;5;28;01mraise\u001b[39;00m \u001b[38;5;167;01mException\u001b[39;00m(\u001b[38;5;124m\"\u001b[39m\u001b[38;5;124mstop\u001b[39m\u001b[38;5;124m\"\u001b[39m)\n\u001b[1;32m     54\u001b[0m \u001b[38;5;66;03m# parse rule with sympy\u001b[39;00m\n\u001b[1;32m     55\u001b[0m \u001b[38;5;66;03m#parsed = sympy.sympify(rule)\u001b[39;00m\n\u001b[1;32m     56\u001b[0m \u001b[38;5;66;03m#parsed\u001b[39;00m\n\u001b[1;32m     57\u001b[0m per_y_rules\n",
      "\u001b[0;31mException\u001b[0m: stop"
     ]
    }
   ],
   "source": [
    "import sympy\n",
    "from itertools import product\n",
    "\n",
    "from sympy import Implies\n",
    "from sympy import simplify_logic\n",
    "def simplify(expr):\n",
    "    \"\"\"\n",
    "    Simplifies a sympy expression.\n",
    "    \"\"\"\n",
    "    # Remove redundant parentheses\n",
    "    # states are one_hot encoded\n",
    "    assumptions = []\n",
    "    for i,j in product(range(NUM_STATES), repeat=2):\n",
    "        if i >= j:\n",
    "            continue\n",
    "        # remove redundant logical operators\n",
    "        formula = f\"~c_{i} |  ~c_{j}\"\n",
    "        formula = sympy.sympify(formula)\n",
    "        assumptions.append(formula)\n",
    "        formula = f\"~(c_{i} & c_{j})\"\n",
    "        formula = sympy.sympify(formula)\n",
    "        assumptions.append(formula)\n",
    "\n",
    "    assumptions = sympy.And(*assumptions)\n",
    "    #print(\"ASSUMPTIONS\", assumptions)\n",
    "    assumptions = sympy.simplify(assumptions)\n",
    "    #print(\"ASSUMPTIONS\", assumptions)\n",
    "    expr = simplify_logic(Implies(assumptions, expr))\n",
    "    #expr = sympy.refine(expr, assumptions)\n",
    "    #expr = sympy.simplify(expr)\n",
    "    # Remove redundant logical operators\n",
    "    #expr = sympy.simplify_logic(expr)\n",
    "    #print(\"S\", expr)\n",
    "    return expr\n",
    "#rule = \"c_0 & ~c_1 & ~c2\"\n",
    "#rule = \"s_0 & ~s_1 & ~s_2 & s_0_count>0 & s_0_count>1\".replace(\">\", \"le\")\n",
    "per_y_rules = {}\n",
    "for layer, rulebook in explanations.items():\n",
    "    per_y_rules[layer] = {}\n",
    "\n",
    "    for key, rules in rulebook.items():\n",
    "        print(\">\", rules)\n",
    "        agg_rules = [] \n",
    "        per_y_rules[layer][key] = {}\n",
    "        for rule in rules:\n",
    "            parsed = sympy.sympify(rule[\"rule\"].replace(\">\", \"le\"))\n",
    "            agg_rules.append(parsed)\n",
    "        print(agg_rules)\n",
    "        disjoint_rules = sympy.Or(*agg_rules)\n",
    "        simplified_rule = simplify(disjoint_rules)\n",
    "        per_y_rules[layer][key] = simplified_rule\n",
    "    #raise Exception(\"stop\")\n",
    "\n",
    "# parse rule with sympy\n",
    "#parsed = sympy.sympify(rule)\n",
    "#parsed\n",
    "per_y_rules"
   ]
  },
  {
   "cell_type": "code",
   "execution_count": 46,
   "metadata": {},
   "outputs": [
    {
     "name": "stdout",
     "output_type": "stream",
     "text": [
      "c0 & ~c1 & ~c2\n"
     ]
    }
   ],
   "source": [
    "from sympy import symbols, Not, simplify\n",
    "from sympy.logic.boolalg import And, Or\n",
    "\n",
    "# Define Boolean symbols\n",
    "c0, c1, c2 = symbols('c0 c1 c2')\n",
    "\n",
    "# Given Boolean expression\n",
    "expr = And(c0, Not(c1), Not(c2))\n",
    "\n",
    "# Additional known constraint\n",
    "constraint = And(Or(Not(c0), Not(c1)), Or(Not(c0), Not(c2)), Or(Not(c1), Not(c2)))\n",
    "\n",
    "# Simplify the expression under the given constraint\n",
    "simplified_expr = simplify(And(expr, constraint))\n",
    "\n",
    "print(simplified_expr)  # Expected output: c0\n"
   ]
  },
  {
   "cell_type": "code",
   "execution_count": 47,
   "metadata": {},
   "outputs": [
    {
     "name": "stdout",
     "output_type": "stream",
     "text": [
      "c0 | (c1 & c2)\n"
     ]
    }
   ],
   "source": [
    "from sympy import symbols, Not\n",
    "from sympy.logic.boolalg import And, Or, Implies, simplify_logic\n",
    "\n",
    "# Define Boolean symbols\n",
    "c0, c1, c2 = symbols('c0 c1 c2')\n",
    "\n",
    "# Given Boolean expression\n",
    "expr = And(c0, Not(c1), Not(c2))\n",
    "\n",
    "# Additional known constraint\n",
    "constraint = And(Or(Not(c0), Not(c1)), Or(Not(c0), Not(c2)), Or(Not(c1), Not(c2)))\n",
    "\n",
    "# Implication: If the constraint holds, then expr simplifies\n",
    "simplified_expr = simplify_logic(Implies(constraint, expr))\n",
    "\n",
    "print(simplified_expr)  # Expected output: c0\n"
   ]
  }
 ],
 "metadata": {
  "kernelspec": {
   "display_name": "Python 3",
   "language": "python",
   "name": "python3"
  },
  "language_info": {
   "codemirror_mode": {
    "name": "ipython",
    "version": 3
   },
   "file_extension": ".py",
   "mimetype": "text/x-python",
   "name": "python",
   "nbconvert_exporter": "python",
   "pygments_lexer": "ipython3",
   "version": "3.12.8"
  }
 },
 "nbformat": 4,
 "nbformat_minor": 2
}
