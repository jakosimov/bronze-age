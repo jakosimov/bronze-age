{
 "cells": [
  {
   "cell_type": "code",
   "execution_count": 4,
   "metadata": {},
   "outputs": [],
   "source": [
    "import sys\n",
    "sys.path.append('..')\n",
    "import torch\n",
    "import seaborn as sns\n",
    "import pandas as pd\n",
    "\n",
    "import lightning as pl\n",
    "#from train import LightningModel, get_config_for_dataset\n",
    "from bronze_age.config import LayerType\n",
    "\n",
    "from bronze_age.datasets import DatasetEnum, get_dataset\n",
    "\n",
    "dataset_enum = DatasetEnum.SIMPLE_SATURATION"
   ]
  },
  {
   "cell_type": "code",
   "execution_count": null,
   "metadata": {},
   "outputs": [],
   "source": [
    "config = get_config_for_dataset(dataset_enum)\n",
    "config.layer_type = LayerType.BronzeAgeGeneralConcept"
   ]
  },
  {
   "cell_type": "code",
   "execution_count": null,
   "metadata": {},
   "outputs": [],
   "source": [
    "dataset = get_dataset(config)"
   ]
  },
  {
   "cell_type": "code",
   "execution_count": 3,
   "metadata": {},
   "outputs": [
    {
     "ename": "NameError",
     "evalue": "name 'LightningModel' is not defined",
     "output_type": "error",
     "traceback": [
      "\u001b[0;31m---------------------------------------------------------------------------\u001b[0m",
      "\u001b[0;31mNameError\u001b[0m                                 Traceback (most recent call last)",
      "Cell \u001b[0;32mIn[3], line 1\u001b[0m\n\u001b[0;32m----> 1\u001b[0m model \u001b[38;5;241m=\u001b[39m \u001b[43mLightningModel\u001b[49m\u001b[38;5;241m.\u001b[39mload_from_checkpoint(\u001b[38;5;124m\"\u001b[39m\u001b[38;5;124mlightning_logs_old/04/03/25 16:46 Simple_Saturation/version_0/checkpoints/epoch=1497-step=1498.ckpt\u001b[39m\u001b[38;5;124m\"\u001b[39m)\n\u001b[1;32m      2\u001b[0m \u001b[38;5;66;03m#model = LightningModel.load_from_checkpoint(\"lightning_logs/04/03/25 19:55 Simple_Saturation/version_5/checkpoints/epoch=1499-step=1500.ckpt\")\u001b[39;00m\n",
      "\u001b[0;31mNameError\u001b[0m: name 'LightningModel' is not defined"
     ]
    }
   ],
   "source": [
    "model = LightningModel.load_from_checkpoint(\"lightning_logs_old/04/03/25 16:46 Simple_Saturation/version_0/checkpoints/epoch=1497-step=1498.ckpt\")\n",
    "#model = LightningModel.load_from_checkpoint(\"lightning_logs/04/03/25 19:55 Simple_Saturation/version_5/checkpoints/epoch=1499-step=1500.ckpt\")"
   ]
  },
  {
   "cell_type": "code",
   "execution_count": null,
   "metadata": {},
   "outputs": [],
   "source": [
    "x_in = dataset[0].x\n",
    "s_in = x_in.argmax(dim=-1)\n",
    "x_2 = model.model.input(x_in)\n",
    "s_2 = x_2.argmax(dim=-1)"
   ]
  },
  {
   "cell_type": "code",
   "execution_count": null,
   "metadata": {},
   "outputs": [
    {
     "name": "stdout",
     "output_type": "stream",
     "text": [
      "tensor([[1980.,    0.,    0.],\n",
      "        [   0.,    0.,   10.],\n",
      "        [  10.,    0.,    0.]])\n"
     ]
    }
   ],
   "source": [
    "# print confusion matrix of x_in, s_2\n",
    "confusion_matrix = torch.zeros((x_in.shape[-1], x_2.shape[-1]))\n",
    "for i in range(len(x_in)):\n",
    "    confusion_matrix[s_in[i], s_2[i]] += 1\n",
    "\n",
    "print(confusion_matrix)\n"
   ]
  },
  {
   "cell_type": "code",
   "execution_count": null,
   "metadata": {},
   "outputs": [],
   "source": [
    "x_3 = model.model.stone_age[0](x_2, edge_index=dataset[0].edge_index)\n",
    "s_3 = x_3.argmax(dim=-1)"
   ]
  },
  {
   "cell_type": "code",
   "execution_count": null,
   "metadata": {},
   "outputs": [
    {
     "name": "stdout",
     "output_type": "stream",
     "text": [
      "tensor([[   0.,    0., 1990.],\n",
      "        [   0.,    0.,    0.],\n",
      "        [   0.,    0.,   10.]])\n"
     ]
    }
   ],
   "source": [
    "confusion_matrix = torch.zeros((x_2.shape[-1], x_3.shape[-1]))\n",
    "for i in range(len(x_in)):\n",
    "    confusion_matrix[s_2[i], s_3[i]] += 1\n",
    "\n",
    "print(confusion_matrix)"
   ]
  },
  {
   "cell_type": "code",
   "execution_count": null,
   "metadata": {},
   "outputs": [
    {
     "name": "stdout",
     "output_type": "stream",
     "text": [
      "tensor([[   0.,    0.],\n",
      "        [   0.,    0.],\n",
      "        [ 604., 1396.]])\n"
     ]
    }
   ],
   "source": [
    "x_4 = model.model.output(x_3)\n",
    "s_4 = x_4.argmax(dim=-1)\n",
    "\n",
    "confusion_matrix = torch.zeros((x_3.shape[-1], x_4.shape[-1]))\n",
    "for i in range(len(x_in)):\n",
    "    confusion_matrix[s_3[i], s_4[i]] += 1\n",
    "\n",
    "print(confusion_matrix)"
   ]
  },
  {
   "cell_type": "code",
   "execution_count": null,
   "metadata": {},
   "outputs": [
    {
     "data": {
      "text/plain": [
       "tensor([[5.7936e-05, 1.0204e-04, 9.7372e-01],\n",
       "        [5.7817e-05, 1.0192e-04, 9.7372e-01],\n",
       "        [5.8651e-05, 1.0288e-04, 9.7372e-01],\n",
       "        ...,\n",
       "        [8.8458e-06, 2.6639e-06, 9.8924e-01],\n",
       "        [8.8160e-06, 2.6536e-06, 9.9232e-01],\n",
       "        [8.8372e-06, 2.6610e-06, 9.9005e-01]], grad_fn=<SqueezeBackward1>)"
      ]
     },
     "execution_count": 26,
     "metadata": {},
     "output_type": "execute_result"
    }
   ],
   "source": [
    "x_3"
   ]
  },
  {
   "cell_type": "code",
   "execution_count": null,
   "metadata": {},
   "outputs": [
    {
     "data": {
      "text/plain": [
       "tensor([5.7936e-05, 1.0204e-04, 9.7372e-01, 5.7817e-05, 1.0192e-04],\n",
       "       grad_fn=<SliceBackward0>)"
      ]
     },
     "execution_count": 27,
     "metadata": {},
     "output_type": "execute_result"
    }
   ],
   "source": [
    "x_3.reshape(-1)[:5]"
   ]
  },
  {
   "cell_type": "code",
   "execution_count": null,
   "metadata": {},
   "outputs": [
    {
     "name": "stderr",
     "output_type": "stream",
     "text": [
      "/Users/jos/cambridge/lent2024/bronze-age/.env/lib/python3.12/site-packages/seaborn/axisgrid.py:718: UserWarning: Using the boxplot function without specifying `order` is likely to produce an incorrect plot.\n",
      "  warnings.warn(warning)\n"
     ]
    },
    {
     "data": {
      "text/plain": [
       "<seaborn.axisgrid.FacetGrid at 0x30fbc3c80>"
      ]
     },
     "execution_count": 28,
     "metadata": {},
     "output_type": "execute_result"
    },
    {
     "data": {
      "image/png": "[encoded data removed]",
      "text/plain": [
       "<Figure size 900x300 with 3 Axes>"
      ]
     },
     "metadata": {},
     "output_type": "display_data"
    }
   ],
   "source": [
    "\n",
    "data = x_3.reshape(-1).detach().numpy()\n",
    "state = torch.arange(x_3.shape[1]).repeat(x_3.shape[0]).detach().numpy()\n",
    "s4_repeat = torch.repeat_interleave(s_4, x_3.shape[1]).detach().numpy()\n",
    "data = pd.DataFrame({'data': data, 'state': state, 's_4': s4_repeat})\n",
    "grid = sns.FacetGrid(data, col='state', sharey=False).map(sns.boxplot, 's_4', 'data')\n",
    "\n",
    "for ax in grid.axes.flatten():\n",
    "    ax.set_xlabel(f'output label')\n",
    "\n",
    "grid.set_titles(col_template='hidden_state[:, {col_name}]')"
   ]
  },
  {
   "cell_type": "code",
   "execution_count": null,
   "metadata": {},
   "outputs": [
    {
     "data": {
      "text/plain": [
       "array([0, 1, 2, ..., 0, 1, 2])"
      ]
     },
     "execution_count": 29,
     "metadata": {},
     "output_type": "execute_result"
    }
   ],
   "source": [
    "state"
   ]
  },
  {
   "cell_type": "code",
   "execution_count": null,
   "metadata": {},
   "outputs": [
    {
     "data": {
      "text/plain": [
       "torch.Size([2000])"
      ]
     },
     "execution_count": 30,
     "metadata": {},
     "output_type": "execute_result"
    }
   ],
   "source": [
    "s_4.shape"
   ]
  },
  {
   "cell_type": "code",
   "execution_count": null,
   "metadata": {},
   "outputs": [
    {
     "data": {
      "text/plain": [
       "<Axes: xlabel='None', ylabel='None'>"
      ]
     },
     "execution_count": 31,
     "metadata": {},
     "output_type": "execute_result"
    },
    {
     "data": {
      "image/png": "[encoded data removed]",
      "text/plain": [
       "<Figure size 640x480 with 1 Axes>"
      ]
     },
     "metadata": {},
     "output_type": "display_data"
    }
   ],
   "source": [
    "sns.boxplot(x=s_4.detach(), y=x_3.detach()[:, 1])"
   ]
  },
  {
   "cell_type": "code",
   "execution_count": null,
   "metadata": {},
   "outputs": [
    {
     "data": {
      "text/plain": [
       "<Axes: xlabel='None', ylabel='None'>"
      ]
     },
     "execution_count": 32,
     "metadata": {},
     "output_type": "execute_result"
    },
    {
     "data": {
      "image/png": "[encoded data removed]",
      "text/plain": [
       "<Figure size 640x480 with 1 Axes>"
      ]
     },
     "metadata": {},
     "output_type": "display_data"
    }
   ],
   "source": [
    "sns.boxplot(x=s_4.detach(), y=x_3.detach()[:, 2])"
   ]
  }
 ],
 "metadata": {
  "kernelspec": {
   "display_name": "Python 3",
   "language": "python",
   "name": "python3"
  },
  "language_info": {
   "codemirror_mode": {
    "name": "ipython",
    "version": 3
   },
   "file_extension": ".py",
   "mimetype": "text/x-python",
   "name": "python",
   "nbconvert_exporter": "python",
   "pygments_lexer": "ipython3",
   "version": "3.12.8"
  }
 },
 "nbformat": 4,
 "nbformat_minor": 2
}
