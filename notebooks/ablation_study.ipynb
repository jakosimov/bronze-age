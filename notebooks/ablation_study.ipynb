{
 "cells": [
  {
   "cell_type": "code",
   "execution_count": 1,
   "metadata": {},
   "outputs": [],
   "source": [
    "import seaborn as sns\n",
    "import pandas as pd\n",
    "import matplotlib.pyplot as plt\n",
    "\n"
   ]
  },
  {
   "cell_type": "code",
   "execution_count": 2,
   "metadata": {},
   "outputs": [],
   "source": [
    "import seaborn as sns\n",
    "import matplotlib.pyplot as plt\n",
    "plt.style.use(\"seaborn-v0_8-white\")\n",
    "tex_fonts = {\n",
    "    # Use LaTeX to write all text\n",
    "    \"text.usetex\": True,\n",
    "    \"font.family\": \"serif\",\n",
    "    # Use 10pt font in plots, to match 10pt font in document\n",
    "    \"axes.labelsize\": 10,\n",
    "    \"font.size\": 10,\n",
    "    # Make the legend/label fonts a little smaller\n",
    "    \"legend.fontsize\": 9,\n",
    "    \"xtick.labelsize\": 8,\n",
    "    \"ytick.labelsize\": 8\n",
    "}\n",
    "\n",
    "plt.rcParams.update(tex_fonts)\n",
    "\n",
    "def get_size(width, fraction=1, subplots=(1, 1)):\n",
    "    \"\"\"Set figure dimensions to avoid scaling in LaTeX.\n",
    "\n",
    "    Parameters\n",
    "    ----------\n",
    "    width: float or string\n",
    "            Document width in points, or string of predined document type\n",
    "    fraction: float, optional\n",
    "            Fraction of the width which you wish the figure to occupy\n",
    "    subplots: array-like, optional\n",
    "            The number of rows and columns of subplots.\n",
    "    Returns\n",
    "    -------\n",
    "    fig_dim: tuple\n",
    "            Dimensions of figure in inches\n",
    "    \"\"\"\n",
    "    if width == 'thesis':\n",
    "        width_pt = 426.79135\n",
    "    if width == 'log':\n",
    "        width_pt = 397.48499\n",
    "    elif width == 'beamer':\n",
    "        width_pt = 307.28987\n",
    "    elif width == 'two-column':\n",
    "        width_pt = 234.8775\n",
    "    else:\n",
    "        width_pt = width\n",
    "\n",
    "    # Width of figure (in pts)\n",
    "    fig_width_pt = width_pt * fraction\n",
    "    # Convert from pt to inches\n",
    "    inches_per_pt = 1 / 72.27\n",
    "\n",
    "    # Golden ratio to set aesthetic figure height\n",
    "    # https://disq.us/p/2940ij3\n",
    "    golden_ratio = (5**.5 - 1) / 2\n",
    "\n",
    "    # Figure width in inches\n",
    "    fig_width_in = fig_width_pt * inches_per_pt\n",
    "    # Figure height in inches\n",
    "    fig_height_in = fig_width_in * golden_ratio * (subplots[0] / subplots[1])\n",
    "\n",
    "    return (fig_width_in, fig_height_in)"
   ]
  },
  {
   "cell_type": "code",
   "execution_count": 3,
   "metadata": {},
   "outputs": [
    {
     "data": {
      "text/plain": [
       "(5.499999861629998, 3.399186852607058)"
      ]
     },
     "execution_count": 3,
     "metadata": {},
     "output_type": "execute_result"
    }
   ],
   "source": [
    "get_size('log', fraction=1)"
   ]
  },
  {
   "cell_type": "code",
   "execution_count": 4,
   "metadata": {},
   "outputs": [],
   "source": [
    "dcr_study_original = pd.read_csv(\"../experiments/ablation_study_dcr.csv\")"
   ]
  },
  {
   "cell_type": "code",
   "execution_count": 5,
   "metadata": {},
   "outputs": [
    {
     "name": "stdout",
     "output_type": "stream",
     "text": [
      "Index(['experiment', 'start_time', 'dataset', 'fold', 'test_accuracy',\n",
      "       'test_accuracy_dt', 'test_accuracy_dt_pruned', 'test_accuracy_cm',\n",
      "       'data_dir', 'temperature', 'layer_type', 'aggregation_mode',\n",
      "       'nonlinearity', 'evaluation_nonlinearity', 'concept_embedding_size',\n",
      "       'concept_temperature', 'a', 'dropout', 'use_batch_norm', 'hidden_units',\n",
      "       'state_size', 'num_layers', 'skip_connection', 'bounding_parameter',\n",
      "       'batch_size', 'device', 'train_decision_tree', 'max_leaf_nodes',\n",
      "       'learning_rate', 'max_epochs', 'num_cv', 'entropy_loss_scaling',\n",
      "       'early_stopping', 'loss_mode', 'num_recurrent_iterations',\n",
      "       'teacher_max_epochs', 'train_concept_model', 'student_layer_type',\n",
      "       'student_aggregation_mode', 'concept_memory_disjunctions'],\n",
      "      dtype='object')\n",
      "['Simple_Saturation' 'Saturation' 'Infection']\n"
     ]
    }
   ],
   "source": [
    "print(dcr_study_original.columns)\n",
    "dcr_study = dcr_study_original[[\n",
    "    'experiment',\n",
    "    'dataset',\n",
    "    'fold',\n",
    "    'test_accuracy',\n",
    "    'aggregation_mode',\n",
    "    'nonlinearity',\n",
    "    'concept_embedding_size',\n",
    "    'layer_type',\n",
    "    'entropy_loss_scaling'\n",
    "]]\n",
    "\n",
    "filter = dcr_study['entropy_loss_scaling'] != 'False' # Just one data point\n",
    "dcr_study = dcr_study[filter]\n",
    "\n",
    "# print(dcr_study[dcr_study['']])\n",
    "print(dcr_study['dataset'].unique())\n"
   ]
  },
  {
   "cell_type": "code",
   "execution_count": 6,
   "metadata": {},
   "outputs": [],
   "source": [
    "palette = 'tab10'"
   ]
  },
  {
   "cell_type": "code",
   "execution_count": null,
   "metadata": {},
   "outputs": [
    {
     "name": "stderr",
     "output_type": "stream",
     "text": [
      "/var/folders/4s/w1ynnlxd101c6csfgv45f7cr0000gn/T/ipykernel_4047/2406108162.py:12: FutureWarning: \n",
      "\n",
      "The `errwidth` parameter is deprecated. And will be removed in v0.15.0. Pass `err_kws={'linewidth': 1.5}` instead.\n",
      "\n",
      "  plot = sns.barplot(data=dcr_study, x='Dataset', y='test_accuracy', hue='entropy_loss_scaling', palette=palette, capsize=0.2, errorbar=\"se\", errwidth=1.5)\n"
     ]
    },
    {
     "data": {
      "image/png": "[encoded data removed]",
      "text/plain": [
       "<Figure size 275x169.959 with 1 Axes>"
      ]
     },
     "metadata": {},
     "output_type": "display_data"
    }
   ],
   "source": [
    "simple_sat = dcr_study[dcr_study['dataset'] == 'Simple_Saturation']\n",
    "sat = dcr_study[dcr_study['dataset'] == 'Saturation']\n",
    "infection = dcr_study[dcr_study['dataset'] == 'Infection']\n",
    "\n",
    "dcr_study['Dataset'] = dcr_study['dataset'].replace({\n",
    "    'Simple_Saturation': 'S. E.',\n",
    "    'Saturation': 'Neg E.',\n",
    "    'Infection': 'Infection'\n",
    "})\n",
    "\n",
    "plt.figure(figsize=get_size('log', fraction=0.5))\n",
    "plot = sns.barplot(data=dcr_study, x='Dataset', y='test_accuracy', hue='entropy_loss_scaling', palette=palette, capsize=0.2, errorbar=\"se\", errwidth=1.5)\n",
    "plot.set(ylim=(0, 1.0))\n",
    "#plot.set_title('DCR Ablation Study')\n",
    "plot.set_xlabel('Dataset')\n",
    "plot.set_ylabel('Test Accuracy')\n",
    "\n",
    "plt.legend(title='Auxiliary Loss Scaling', loc='lower left', frameon=True)\n",
    "plt.savefig('dcr_loss_scaling.pdf', bbox_inches='tight')\n"
   ]
  },
  {
   "cell_type": "code",
   "execution_count": null,
   "metadata": {},
   "outputs": [],
   "source": []
  },
  {
   "cell_type": "code",
   "execution_count": 22,
   "metadata": {},
   "outputs": [],
   "source": [
    "cmr_study_original = pd.read_csv(\"../experiments/ablation_study_cmr.csv\")"
   ]
  },
  {
   "cell_type": "code",
   "execution_count": null,
   "metadata": {},
   "outputs": [
    {
     "name": "stdout",
     "output_type": "stream",
     "text": [
      "['Simple_Saturation' 'Saturation' 'Infection']\n"
     ]
    },
    {
     "name": "stderr",
     "output_type": "stream",
     "text": [
      "/var/folders/4s/w1ynnlxd101c6csfgv45f7cr0000gn/T/ipykernel_4047/2163053858.py:13: SettingWithCopyWarning: \n",
      "A value is trying to be set on a copy of a slice from a DataFrame.\n",
      "Try using .loc[row_indexer,col_indexer] = value instead\n",
      "\n",
      "See the caveats in the documentation: https://pandas.pydata.org/pandas-docs/stable/user_guide/indexing.html#returning-a-view-versus-a-copy\n",
      "  cmr_study['Dataset'] = cmr_study['dataset'].replace({\n"
     ]
    }
   ],
   "source": [
    "cmr_study = cmr_study_original[[\n",
    "    'experiment',\n",
    "    'dataset',\n",
    "    'fold',\n",
    "    'test_accuracy',\n",
    "    'aggregation_mode',\n",
    "    'nonlinearity',\n",
    "    'concept_embedding_size',\n",
    "    'layer_type',\n",
    "    'entropy_loss_scaling'\n",
    "]]\n",
    "\n",
    "cmr_study['Dataset'] = cmr_study['dataset'].replace({\n",
    "    'Simple_Saturation': 'S. E.',\n",
    "    'Saturation': 'Neg E.',\n",
    "    'Infection': 'Infection'\n",
    "})\n",
    "# filter = dcr_study['entropy_loss_scaling'] != 'False' # Just one data point\n",
    "# dcr_study = dcr_study[filter]\n",
    "\n",
    "# print(dcr_study[dcr_study['']])\n",
    "print(cmr_study['dataset'].unique())\n"
   ]
  },
  {
   "cell_type": "code",
   "execution_count": 29,
   "metadata": {},
   "outputs": [
    {
     "name": "stderr",
     "output_type": "stream",
     "text": [
      "/var/folders/4s/w1ynnlxd101c6csfgv45f7cr0000gn/T/ipykernel_4047/1091015467.py:2: FutureWarning: \n",
      "\n",
      "The `errwidth` parameter is deprecated. And will be removed in v0.15.0. Pass `err_kws={'linewidth': 1.5}` instead.\n",
      "\n",
      "  plot = sns.barplot(data=cmr_study, x='Dataset', y='test_accuracy', hue='entropy_loss_scaling', palette=palette, capsize=0.2, errorbar=\"se\", errwidth=1.5)\n"
     ]
    },
    {
     "data": {
      "image/png": "[encoded data removed]",
      "text/plain": [
       "<Figure size 275x169.959 with 1 Axes>"
      ]
     },
     "metadata": {},
     "output_type": "display_data"
    }
   ],
   "source": [
    "plt.figure(figsize=get_size('log', fraction=0.5))\n",
    "plot = sns.barplot(data=cmr_study, x='Dataset', y='test_accuracy', hue='entropy_loss_scaling', palette=palette, capsize=0.2, errorbar=\"se\", errwidth=1.5)\n",
    "plot.set_ylim(0, 1.0)\n",
    "plot.set_ylabel(\"Test Accuracy\")\n",
    "plot.set_xlabel(\"Dataset\")\n",
    "\n",
    "plot.legend(title='Auxiliary Loss Scaling', loc='upper right')\n",
    "plt.savefig('cmr_loss_scaling.pdf', bbox_inches='tight')\n"
   ]
  },
  {
   "cell_type": "code",
   "execution_count": 32,
   "metadata": {},
   "outputs": [
    {
     "name": "stderr",
     "output_type": "stream",
     "text": [
      "/var/folders/4s/w1ynnlxd101c6csfgv45f7cr0000gn/T/ipykernel_4047/2988440562.py:7: FutureWarning: \n",
      "\n",
      "The `errwidth` parameter is deprecated. And will be removed in v0.15.0. Pass `err_kws={'linewidth': 1.5}` instead.\n",
      "\n",
      "  ax = sns.barplot(data=dcr_study, x='Dataset', y='test_accuracy', hue='Aggregation', palette=palette, capsize=0.2, errorbar=\"se\", errwidth=1.5)\n"
     ]
    },
    {
     "data": {
      "image/png": "[encoded data removed]",
      "text/plain": [
       "<Figure size 275x169.959 with 1 Axes>"
      ]
     },
     "metadata": {},
     "output_type": "display_data"
    }
   ],
   "source": [
    "plt.figure(figsize=get_size('log', fraction=0.5))\n",
    "dcr_study['Aggregation'] = dcr_study['aggregation_mode'].map({\n",
    "    'bronze_age': 'Bronze Age',\n",
    "    'bronze_age_comparison': 'with Comparison',\n",
    "    'bronze_age_rounded': 'Discretized',\n",
    "})\n",
    "ax = sns.barplot(data=dcr_study, x='Dataset', y='test_accuracy', hue='Aggregation', palette=palette, capsize=0.2, errorbar=\"se\", errwidth=1.5)\n",
    "sns.move_legend(ax, \"lower left\", frameon=True)\n",
    "plt.xlabel('Dataset')\n",
    "plt.ylabel('Test Accuracy')\n",
    "\n",
    "plt.savefig('dcr_aggregation.pdf', bbox_inches='tight')\n"
   ]
  },
  {
   "cell_type": "markdown",
   "metadata": {},
   "source": [
    "Apparently the embedding size experiments didn't go as expected..."
   ]
  },
  {
   "cell_type": "code",
   "execution_count": 12,
   "metadata": {},
   "outputs": [
    {
     "data": {
      "text/plain": [
       "<Axes: xlabel='dataset', ylabel='test_accuracy'>"
      ]
     },
     "execution_count": 12,
     "metadata": {},
     "output_type": "execute_result"
    },
    {
     "data": {
      "image/png": "[encoded data removed]",
      "text/plain": [
       "<Figure size 640x480 with 1 Axes>"
      ]
     },
     "metadata": {},
     "output_type": "display_data"
    }
   ],
   "source": [
    "sns.barplot(data=dcr_study, x='dataset', y='test_accuracy', hue='concept_embedding_size', palette=palette, capsize=0.2, errorbar=\"se\")"
   ]
  },
  {
   "cell_type": "code",
   "execution_count": 35,
   "metadata": {},
   "outputs": [
    {
     "name": "stderr",
     "output_type": "stream",
     "text": [
      "/var/folders/4s/w1ynnlxd101c6csfgv45f7cr0000gn/T/ipykernel_4047/1034177329.py:7: FutureWarning: \n",
      "\n",
      "The `errwidth` parameter is deprecated. And will be removed in v0.15.0. Pass `err_kws={'linewidth': 1.5}` instead.\n",
      "\n",
      "  plot = sns.barplot(data=dcr_study, x='Dataset', y='test_accuracy', hue='Nonlinearity', palette=palette, capsize=0.2, errorbar=\"se\", errwidth=1.5)\n"
     ]
    },
    {
     "data": {
      "image/png": "[encoded data removed]",
      "text/plain": [
       "<Figure size 275x169.959 with 1 Axes>"
      ]
     },
     "metadata": {},
     "output_type": "display_data"
    }
   ],
   "source": [
    "dcr_study['nonlinearity'] = dcr_study['nonlinearity'].fillna('none')\n",
    "dcr_study['Nonlinearity'] = dcr_study['nonlinearity'].map({\n",
    "    'none': 'No Nonlinearity',\n",
    "    'differentiable_argmax': 'DT-Argmax',\n",
    "})\n",
    "plt.figure(figsize=get_size('log', fraction=0.5))\n",
    "plot = sns.barplot(data=dcr_study, x='Dataset', y='test_accuracy', hue='Nonlinearity', palette=palette, capsize=0.2, errorbar=\"se\", errwidth=1.5)\n",
    "\n",
    "plot.set_ylim(0, 1.0)\n",
    "plot.set_ylabel(\"Test Accuracy\")\n",
    "plot.set_xlabel(\"Dataset\")\n",
    "sns.move_legend(plot, \"lower left\", frameon=True)\n",
    "plt.savefig('dcr_nonlinearity.pdf', bbox_inches='tight')"
   ]
  },
  {
   "cell_type": "code",
   "execution_count": 80,
   "metadata": {},
   "outputs": [
    {
     "name": "stderr",
     "output_type": "stream",
     "text": [
      "/var/folders/4s/w1ynnlxd101c6csfgv45f7cr0000gn/T/ipykernel_4047/1457157550.py:3: SettingWithCopyWarning: \n",
      "A value is trying to be set on a copy of a slice from a DataFrame.\n",
      "Try using .loc[row_indexer,col_indexer] = value instead\n",
      "\n",
      "See the caveats in the documentation: https://pandas.pydata.org/pandas-docs/stable/user_guide/indexing.html#returning-a-view-versus-a-copy\n",
      "  cmr_study['Model'] = 'CMR'\n",
      "/var/folders/4s/w1ynnlxd101c6csfgv45f7cr0000gn/T/ipykernel_4047/1457157550.py:11: FutureWarning: \n",
      "\n",
      "The `errwidth` parameter is deprecated. And will be removed in v0.15.0. Pass `err_kws={'linewidth': 1.5}` instead.\n",
      "\n",
      "  g = sns.catplot(data=df, x='Dataset', y='test_accuracy', hue='entropy_loss_scaling', col='Model', palette=palette, capsize=0.2, errorbar=\"se\", errwidth=1.5, kind='bar', height=height, aspect=width/height)\n"
     ]
    },
    {
     "data": {
      "image/png": "[encoded data removed]",
      "text/plain": [
       "<Figure size 678.237x226.612 with 2 Axes>"
      ]
     },
     "metadata": {},
     "output_type": "display_data"
    }
   ],
   "source": [
    "# joined plot\n",
    "dcr_study['Model'] = 'DCR'\n",
    "cmr_study['Model'] = 'CMR'\n",
    "df = pd.concat([dcr_study, cmr_study], axis=0)\n",
    "\n",
    "width, height = get_size('log', fraction=1)\n",
    "\n",
    "width = width/2\n",
    "height = height/1.5\n",
    "#plot = sns.barplot(data=dcr_study, x='Dataset', y='test_accuracy', hue='entropy_loss_scaling', palette=palette, capsize=0.2, errorbar=\"se\", errwidth=1.5)\n",
    "g = sns.catplot(data=df, x='Dataset', y='test_accuracy', hue='entropy_loss_scaling', col='Model', palette=palette, capsize=0.2, errorbar=\"se\", errwidth=1.5, kind='bar', height=height, aspect=width/height)\n",
    "g.set(ylim=(0, 1.0))\n",
    "#plot.set_title('DCR Ablation Study')\n",
    "g.set_xlabels('Dataset')\n",
    "g.set_ylabels('Test Accuracy')\n",
    "\n",
    "g.set_titles(col_template=\"{col_name}\")\n",
    "# move legend into the plot\n",
    "sns.move_legend(g, \"upper left\", frameon=True, bbox_to_anchor=(0.6, 0.86), title='Auxiliary Loss Scaling')\n",
    "\n",
    "plt.savefig('both_loss_scaling.pdf', bbox_inches='tight')\n"
   ]
  }
 ],
 "metadata": {
  "kernelspec": {
   "display_name": "Python 3",
   "language": "python",
   "name": "python3"
  },
  "language_info": {
   "codemirror_mode": {
    "name": "ipython",
    "version": 3
   },
   "file_extension": ".py",
   "mimetype": "text/x-python",
   "name": "python",
   "nbconvert_exporter": "python",
   "pygments_lexer": "ipython3",
   "version": "3.12.8"
  }
 },
 "nbformat": 4,
 "nbformat_minor": 2
}
