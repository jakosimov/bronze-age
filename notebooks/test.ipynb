{
 "cells": [
  {
   "cell_type": "code",
   "execution_count": 1,
   "metadata": {},
   "outputs": [],
   "source": [
    "\n",
    "import lightning\n",
    "import numpy as np\n",
    "import torch\n",
    "import torch.nn.functional as F\n",
    "from sklearn.model_selection import StratifiedKFold\n",
    "from torch_geometric.data import DataLoader\n",
    "\n",
    "from bronze_age.config import Config, NetworkType\n",
    "from bronze_age.datasets import DatasetEnum, get_dataset\n",
    "from bronze_age.models.stone_age import StoneAgeGNN as BronzeAgeGNN\n",
    "\n",
    "from stone_age.models.stone_age_gnn import StoneAgeGNN"
   ]
  },
  {
   "cell_type": "code",
   "execution_count": 2,
   "metadata": {},
   "outputs": [
    {
     "name": "stdout",
     "output_type": "stream",
     "text": [
      "918 918\n"
     ]
    }
   ],
   "source": [
    "#  config = Config(dataset=DatasetEnum.REDDIT_BINARY, data_dir='downloads', temperature=1.0, alpha=1.0, beta=1.0, dropout=0.0, use_batch_norm=True, network=NetworkType.MLP, hidden_units=16, state_size=5, num_layers=2, skip_connection=True, use_pooling=True, bounding_parameter=1000, batch_size=128, learning_rate=0.01)\n",
    "\n",
    "alpha = 1.0\n",
    "beta = 1.0\n",
    "in_channels = 1# 1433\n",
    "out_channels = 2 #7\n",
    "bounding_parameter = 1000\n",
    "state_size = 5\n",
    "num_layers = 2\n",
    "gumbel = True\n",
    "softmax_temp = 1.0\n",
    "network = 'mlp'\n",
    "use_pooling = True\n",
    "skip_connection = True\n",
    "use_batch_norm = True\n",
    "hidden_units = 16\n",
    "dropout = 0.0\n",
    "torch.manual_seed(0)\n",
    "model1 = StoneAgeGNN(in_channels,\n",
    "    out_channels,\n",
    "    bounding_parameter,\n",
    "    state_size,\n",
    "    num_layers = num_layers,\n",
    "    gumbel = gumbel,\n",
    "    softmax_temp= softmax_temp,\n",
    "    network= network,\n",
    "    use_pooling =use_pooling,\n",
    "    skip_connection = skip_connection,\n",
    "    use_batch_norm = use_batch_norm,\n",
    "    hidden_units= hidden_units,\n",
    "    dropout= dropout)\n",
    "config = Config(\n",
    "    dataset=DatasetEnum.REDDIT_BINARY,\n",
    "    data_dir='downloads',\n",
    "    temperature=softmax_temp,\n",
    "    alpha=alpha ,\n",
    "    beta=beta,\n",
    "    dropout=dropout,\n",
    "    use_batch_norm=use_batch_norm,\n",
    "    network=NetworkType.MLP,\n",
    "    hidden_units=hidden_units,\n",
    "    state_size=state_size,\n",
    "    num_layers=num_layers,\n",
    "    skip_connection=skip_connection,\n",
    "    use_pooling=use_pooling,\n",
    "    bounding_parameter=bounding_parameter,\n",
    "    batch_size=32\n",
    ")\n",
    "torch.manual_seed(0)\n",
    "model2 = BronzeAgeGNN(in_channels, out_channels, config)\n",
    "\n",
    "num_trainable_params1 = sum(p.numel() for p in model1.parameters() if p.requires_grad)\n",
    "num_trainable_params2 = sum(p.numel() for p in model2.parameters() if p.requires_grad)\n",
    "\n",
    "print(num_trainable_params1, num_trainable_params2)\n",
    "\n",
    "model2.load_state_dict(model1.state_dict())\n",
    "model1.set_beta(beta)\n",
    "#model1.set_argmax(True)\n",
    "#model1.eval()\n",
    "#model2.eval()"
   ]
  },
  {
   "cell_type": "code",
   "execution_count": 7,
   "metadata": {},
   "outputs": [
    {
     "name": "stdout",
     "output_type": "stream",
     "text": [
      "StoneAgeGNN(\n",
      "  (input): InputLayer(\n",
      "    (lin1): Linear(in_features=1, out_features=5, bias=True)\n",
      "  )\n",
      "  (output): PoolingLayer(\n",
      "    (lin2): MLP(\n",
      "      (lins): ModuleList(\n",
      "        (0): Linear(in_features=15, out_features=16, bias=True)\n",
      "        (1): Linear(in_features=16, out_features=2, bias=True)\n",
      "      )\n",
      "      (bns): ModuleList(\n",
      "        (0): BatchNorm1d(16, eps=1e-05, momentum=0.1, affine=True, track_running_stats=True)\n",
      "      )\n",
      "    )\n",
      "  )\n",
      "  (stone_age): ModuleList(\n",
      "    (0-1): 2 x StoneAgeGNNLayer()\n",
      "  )\n",
      ")\n"
     ]
    }
   ],
   "source": [
    "print(model1)"
   ]
  },
  {
   "cell_type": "code",
   "execution_count": null,
   "metadata": {},
   "outputs": [],
   "source": [
    "print(model2)"
   ]
  },
  {
   "cell_type": "code",
   "execution_count": 3,
   "metadata": {},
   "outputs": [
    {
     "name": "stderr",
     "output_type": "stream",
     "text": [
      "/Users/jos/cambridge/lent2024/bronze-age/.env/lib/python3.12/site-packages/torch_geometric/deprecation.py:26: UserWarning: 'data.DataLoader' is deprecated, use 'loader.DataLoader' instead\n",
      "  warnings.warn(out)\n"
     ]
    }
   ],
   "source": [
    "dataset = get_dataset(config)\n",
    "data_loader = DataLoader(dataset, batch_size=config.batch_size, shuffle=True)"
   ]
  },
  {
   "cell_type": "code",
   "execution_count": 4,
   "metadata": {},
   "outputs": [
    {
     "data": {
      "text/plain": [
       "(1, 2)"
      ]
     },
     "execution_count": 4,
     "metadata": {},
     "output_type": "execute_result"
    }
   ],
   "source": [
    "dataset.num_node_features, dataset.num_classes"
   ]
  },
  {
   "cell_type": "code",
   "execution_count": 5,
   "metadata": {},
   "outputs": [],
   "source": [
    "for it in data_loader:\n",
    "    torch.manual_seed(0)\n",
    "    out1 = model1.forward(it.x, it.edge_index, it.batch)\n",
    "    torch.manual_seed(0)\n",
    "    out2 = model2.forward(it.x, it.edge_index, it.batch)\n",
    "    assert (out1 == out2).all()"
   ]
  },
  {
   "cell_type": "code",
   "execution_count": 6,
   "metadata": {},
   "outputs": [
    {
     "data": {
      "text/plain": [
       "2000"
      ]
     },
     "execution_count": 6,
     "metadata": {},
     "output_type": "execute_result"
    }
   ],
   "source": [
    "len(dataset)"
   ]
  }
 ],
 "metadata": {
  "kernelspec": {
   "display_name": "Python 3",
   "language": "python",
   "name": "python3"
  },
  "language_info": {
   "codemirror_mode": {
    "name": "ipython",
    "version": 3
   },
   "file_extension": ".py",
   "mimetype": "text/x-python",
   "name": "python",
   "nbconvert_exporter": "python",
   "pygments_lexer": "ipython3",
   "version": "3.12.8"
  }
 },
 "nbformat": 4,
 "nbformat_minor": 2
}
