{
 "cells": [
  {
   "cell_type": "code",
   "execution_count": 8,
   "metadata": {},
   "outputs": [],
   "source": [
    "#%load_ext autoreload\n",
    "#%autoreload 2\n",
    "import torch\n",
    "\n",
    "from torch import nn\n",
    "\n",
    "from bronze_age.models.bronze_age import BronzeAgeGNN\n",
    "\n",
    "from bronze_age.config import BronzeConfig, DatasetEnum, LayerTypeBronze, LayerType, NetworkType, AggregationMode, NonLinearity\n",
    "\n",
    "from train_bronze import get_config_for_dataset, get_dataset, LightningModel"
   ]
  },
  {
   "cell_type": "code",
   "execution_count": 6,
   "metadata": {},
   "outputs": [],
   "source": [
    "dataset_enum = DatasetEnum.SIMPLE_SATURATION\n",
    "\n",
    "config = get_config_for_dataset(dataset_enum)\n",
    "\n",
    "dataset = get_dataset(config)"
   ]
  },
  {
   "cell_type": "code",
   "execution_count": 10,
   "metadata": {},
   "outputs": [],
   "source": [
    "gnn = BronzeAgeGNN(dataset.num_node_features, dataset.num_classes, config)\n",
    "model = LightningModel.load_from_checkpoint(\"lightning_logs/15/03/25 19:06 Simple_Saturation/version_0/checkpoints/epoch=519-step=520.ckpt\", model=gnn)"
   ]
  },
  {
   "cell_type": "code",
   "execution_count": 15,
   "metadata": {},
   "outputs": [
    {
     "data": {
      "text/plain": [
       "tensor(0.9965)"
      ]
     },
     "execution_count": 15,
     "metadata": {},
     "output_type": "execute_result"
    }
   ],
   "source": [
    "(model.model(dataset[0].x, dataset[0].edge_index)[0].argmax(dim=-1) == dataset[0].y).float().mean()"
   ]
  },
  {
   "cell_type": "code",
   "execution_count": 17,
   "metadata": {},
   "outputs": [
    {
     "name": "stderr",
     "output_type": "stream",
     "text": [
      "\n",
      "  | Name       | Type       | Params | Mode \n",
      "--------------------------------------------------\n",
      "0 | layer_dict | ModuleDict | 402 K  | train\n",
      "--------------------------------------------------\n",
      "402 K     Trainable params\n",
      "0         Non-trainable params\n",
      "402 K     Total params\n",
      "1.609     Total estimated model params size (MB)\n",
      "46        Modules in train mode\n",
      "0         Modules in eval mode\n"
     ]
    }
   ],
   "source": [
    "from torch_geometric.loader import DataLoader\n",
    "train_loader = DataLoader(dataset, batch_size=128, shuffle=False)\n",
    "model_dt = model.model.train_concept_model(train_loader)"
   ]
  },
  {
   "cell_type": "code",
   "execution_count": 18,
   "metadata": {},
   "outputs": [
    {
     "data": {
      "text/plain": [
       "tensor(1.)"
      ]
     },
     "execution_count": 18,
     "metadata": {},
     "output_type": "execute_result"
    }
   ],
   "source": [
    "(model_dt(dataset[0].x, dataset[0].edge_index)[0].argmax(dim=-1) == dataset[0].y).float().mean()"
   ]
  },
  {
   "cell_type": "code",
   "execution_count": 21,
   "metadata": {},
   "outputs": [],
   "source": [
    "explanations = model_dt(dataset[0].x, dataset[0].edge_index, return_explanation=True)[2]"
   ]
  },
  {
   "cell_type": "code",
   "execution_count": 22,
   "metadata": {},
   "outputs": [
    {
     "data": {
      "text/plain": [
       "{'input': [{'class': 'y_0', 'explanation': '~c_1', 'count': 1980},\n",
       "  {'class': 'y_1', 'explanation': 'c_2', 'count': 10},\n",
       "  {'class': 'y_2', 'explanation': 'c_1', 'count': 10}],\n",
       " 'StoneAgeLayer-0': [{'class': 'y_0',\n",
       "   'explanation': 's_2_count>5',\n",
       "   'count': 88},\n",
       "  {'class': 'y_0', 'explanation': 's_1_count>2 & s_2_count>5', 'count': 242},\n",
       "  {'class': 'y_0', 'explanation': 's_1_count>2', 'count': 66},\n",
       "  {'class': 'y_0', 'explanation': 's_2_count>5 & s_2_count>8', 'count': 132},\n",
       "  {'class': 'y_0', 'explanation': 's_2_count>8', 'count': 264},\n",
       "  {'class': 'y_1', 'explanation': 's_2_count>2', 'count': 110},\n",
       "  {'class': 'y_2', 'explanation': '~s_2_count>0 & ~s_2_count>5', 'count': 20},\n",
       "  {'class': 'y_2',\n",
       "   'explanation': '~s_1_count>7 & ~s_2_count>2 & ~s_2_count>5 & ~s_2_count>6',\n",
       "   'count': 176},\n",
       "  {'class': 'y_2', 'explanation': 's_1_count>5', 'count': 550},\n",
       "  {'class': 'y_2',\n",
       "   'explanation': '~s_1_count>7 & ~s_2_count>5 & ~s_2_count>6',\n",
       "   'count': 220},\n",
       "  {'class': 'y_2', 'explanation': '~s_2_count>5 & ~s_2_count>6', 'count': 44},\n",
       "  {'class': 'y_2', 'explanation': '~s_2_count>6', 'count': 88}],\n",
       " 'output': [{'class': 'y_0', 'explanation': '~c_4', 'count': 10},\n",
       "  {'class': 'y_0', 'explanation': '~c_2', 'count': 792},\n",
       "  {'class': 'y_1', 'explanation': 'c_1 & c_5', 'count': 10},\n",
       "  {'class': 'y_1', 'explanation': 'c_5', 'count': 1078},\n",
       "  {'class': 'y_1', 'explanation': 'c_4', 'count': 110}]}"
      ]
     },
     "execution_count": 22,
     "metadata": {},
     "output_type": "execute_result"
    }
   ],
   "source": [
    "explanations"
   ]
  },
  {
   "cell_type": "code",
   "execution_count": null,
   "metadata": {},
   "outputs": [],
   "source": [
    "# c_1: blue\n",
    "# c_2: red\n",
    "\n",
    "# input: y_0 = white\n",
    "# input: y_1 : red\n",
    "# input: y_2 : blue\n",
    "# \n",
    "# \n",
    "# layer_0: blue > 5 or red > 2 or red > 8 \n",
    "# layer_1: blue count > 2 "
   ]
  }
 ],
 "metadata": {
  "kernelspec": {
   "display_name": "Python 3",
   "language": "python",
   "name": "python3"
  },
  "language_info": {
   "codemirror_mode": {
    "name": "ipython",
    "version": 3
   },
   "file_extension": ".py",
   "mimetype": "text/x-python",
   "name": "python",
   "nbconvert_exporter": "python",
   "pygments_lexer": "ipython3",
   "version": "3.12.8"
  }
 },
 "nbformat": 4,
 "nbformat_minor": 2
}
