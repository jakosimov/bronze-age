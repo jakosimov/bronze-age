{
 "cells": [
  {
   "cell_type": "code",
   "execution_count": 1,
   "metadata": {},
   "outputs": [],
   "source": [
    "\n",
    "import lightning\n",
    "import numpy as np\n",
    "import torch\n",
    "import torch.nn.functional as F\n",
    "from sklearn.model_selection import StratifiedKFold\n",
    "from torch_geometric.data import DataLoader\n",
    "\n"
   ]
  },
  {
   "cell_type": "code",
   "execution_count": 2,
   "metadata": {},
   "outputs": [],
   "source": [
    "num_classes = 5\n",
    "bounding_parameter = 10\n",
    "a = torch.randint(0, num_classes, (30, ))\n",
    "b = torch.functional.F.one_hot(a, num_classes=num_classes)"
   ]
  },
  {
   "cell_type": "code",
   "execution_count": 3,
   "metadata": {},
   "outputs": [
    {
     "data": {
      "text/plain": [
       "tensor([9, 4, 4, 6, 7])"
      ]
     },
     "execution_count": 3,
     "metadata": {},
     "output_type": "execute_result"
    }
   ],
   "source": [
    "current = torch.clamp(b.sum(dim=0), min=0, max=bounding_parameter)\n",
    "current"
   ]
  },
  {
   "cell_type": "code",
   "execution_count": 7,
   "metadata": {},
   "outputs": [
    {
     "data": {
      "text/plain": [
       "tensor([9., 4., 4., 6., 7.])"
      ]
     },
     "execution_count": 7,
     "metadata": {},
     "output_type": "execute_result"
    }
   ],
   "source": [
    "Y = torch.arange(bounding_parameter).float()\n",
    "sums = b.sum(dim=0).float()\n",
    "a = 10\n",
    "sums\n",
    "\n"
   ]
  },
  {
   "cell_type": "code",
   "execution_count": null,
   "metadata": {},
   "outputs": [
    {
     "data": {
      "text/plain": [
       "tensor([[1.0000e+00, 1.0000e+00, 1.0000e+00, 1.0000e+00, 1.0000e+00, 1.0000e+00,\n",
       "         1.0000e+00, 1.0000e+00, 9.9993e-01, 3.7754e-01],\n",
       "        [1.0000e+00, 1.0000e+00, 1.0000e+00, 9.9993e-01, 3.7754e-01, 2.7536e-05,\n",
       "         1.2502e-09, 5.6757e-14, 2.5768e-18, 1.1698e-22],\n",
       "        [1.0000e+00, 1.0000e+00, 1.0000e+00, 9.9993e-01, 3.7754e-01, 2.7536e-05,\n",
       "         1.2502e-09, 5.6757e-14, 2.5768e-18, 1.1698e-22],\n",
       "        [1.0000e+00, 1.0000e+00, 1.0000e+00, 1.0000e+00, 1.0000e+00, 9.9993e-01,\n",
       "         3.7754e-01, 2.7536e-05, 1.2502e-09, 5.6757e-14],\n",
       "        [1.0000e+00, 1.0000e+00, 1.0000e+00, 1.0000e+00, 1.0000e+00, 1.0000e+00,\n",
       "         9.9993e-01, 3.7754e-01, 2.7536e-05, 1.2502e-09]])"
      ]
     },
     "execution_count": 8,
     "metadata": {},
     "output_type": "execute_result"
    }
   ],
   "source": [
    "F.sigmoid(a*(sums[:, None] - Y - 0.5) )"
   ]
  },
  {
   "cell_type": "code",
   "execution_count": 5,
   "metadata": {},
   "outputs": [
    {
     "data": {
      "text/plain": [
       "tensor([[1.0000e+00, 1.0000e+00, 1.0000e+00, 1.0000e+00, 1.0000e+00, 1.0000e+00,\n",
       "         1.0000e+00, 9.9945e-01, 9.2414e-01, 7.5858e-02],\n",
       "        [1.0000e+00, 1.0000e+00, 9.9945e-01, 9.2414e-01, 7.5858e-02, 3.4683e-03,\n",
       "         1.0869e-03, 7.0892e-04, 6.0576e-04, 5.7171e-04],\n",
       "        [1.0000e+00, 1.0000e+00, 9.9945e-01, 9.2414e-01, 7.5858e-02, 3.4683e-03,\n",
       "         1.0869e-03, 7.0892e-04, 6.0576e-04, 5.7171e-04],\n",
       "        [1.0000e+00, 1.0000e+00, 1.0000e+00, 1.0000e+00, 9.9945e-01, 9.2414e-01,\n",
       "         7.5858e-02, 3.4683e-03, 1.0869e-03, 7.0892e-04],\n",
       "        [1.0000e+00, 1.0000e+00, 1.0000e+00, 1.0000e+00, 1.0000e+00, 9.9945e-01,\n",
       "         9.2414e-01, 7.5858e-02, 3.4683e-03, 1.0869e-03]])"
      ]
     },
     "execution_count": 5,
     "metadata": {},
     "output_type": "execute_result"
    }
   ],
   "source": [
    "F.sigmoid(a*(F.elu(sums[:, None] - Y) - 0.5))"
   ]
  },
  {
   "cell_type": "code",
   "execution_count": 77,
   "metadata": {},
   "outputs": [
    {
     "data": {
      "text/plain": [
       "tensor([[1.0000e+00, 1.0000e+00, 1.0000e+00, 1.0000e+00, 1.0000e+00, 1.0000e+00,\n",
       "         9.9945e-01, 9.2414e-01, 7.5858e-02, 3.4683e-03],\n",
       "        [1.0000e+00, 1.0000e+00, 1.0000e+00, 9.9945e-01, 9.2414e-01, 7.5858e-02,\n",
       "         3.4683e-03, 1.0869e-03, 7.0892e-04, 6.0576e-04],\n",
       "        [1.0000e+00, 1.0000e+00, 1.0000e+00, 1.0000e+00, 9.9945e-01, 9.2414e-01,\n",
       "         7.5858e-02, 3.4683e-03, 1.0869e-03, 7.0892e-04],\n",
       "        [1.0000e+00, 1.0000e+00, 1.0000e+00, 1.0000e+00, 9.9945e-01, 9.2414e-01,\n",
       "         7.5858e-02, 3.4683e-03, 1.0869e-03, 7.0892e-04],\n",
       "        [1.0000e+00, 1.0000e+00, 1.0000e+00, 9.9945e-01, 9.2414e-01, 7.5858e-02,\n",
       "         3.4683e-03, 1.0869e-03, 7.0892e-04, 6.0576e-04]])"
      ]
     },
     "execution_count": 77,
     "metadata": {},
     "output_type": "execute_result"
    }
   ],
   "source": [
    "F.sigmoid(a*(F.elu(sums[:, None] - Y ) - 0.5))"
   ]
  },
  {
   "cell_type": "code",
   "execution_count": 32,
   "metadata": {},
   "outputs": [
    {
     "data": {
      "text/plain": [
       "tensor([[0.9991, 1.0000, 1.0000, 0.9999, 1.0000],\n",
       "        [0.9975, 1.0000, 0.9999, 0.9997, 1.0000],\n",
       "        [0.9931, 1.0000, 0.9997, 0.9991, 0.9999],\n",
       "        [0.9807, 1.0000, 0.9991, 0.9975, 0.9997],\n",
       "        [0.9457, 0.9999, 0.9975, 0.9931, 0.9991],\n",
       "        [0.8534, 0.9997, 0.9931, 0.9807, 0.9975],\n",
       "        [0.6750, 0.9991, 0.9807, 0.9457, 0.9931],\n",
       "        [0.5000, 0.9975, 0.9457, 0.8534, 0.9807],\n",
       "        [0.4332, 0.9931, 0.8534, 0.6750, 0.9457],\n",
       "        [0.4407, 0.9807, 0.6750, 0.5000, 0.8534]])"
      ]
     },
     "execution_count": 32,
     "metadata": {},
     "output_type": "execute_result"
    }
   ],
   "source": [
    "F.sigmoid(F.silu(( - torch.arange(bounding_parameter)[:, None]).float()))"
   ]
  },
  {
   "cell_type": "code",
   "execution_count": 118,
   "metadata": {},
   "outputs": [
    {
     "name": "stdout",
     "output_type": "stream",
     "text": [
      "tensor([1., 2., 4., 8.])\n"
     ]
    },
    {
     "data": {
      "text/plain": [
       "<Axes: >"
      ]
     },
     "execution_count": 118,
     "metadata": {},
     "output_type": "execute_result"
    },
    {
     "data": {
      "image/png": "[encoded data removed]",
      "text/plain": [
       "<Figure size 640x480 with 2 Axes>"
      ]
     },
     "metadata": {},
     "output_type": "display_data"
    }
   ],
   "source": [
    "# sinusoidal encoding\n",
    "import math\n",
    "def sinusoidal_encode(x, bounding_parameter=4):\n",
    "    div_term = torch.exp2(torch.arange(0, bounding_parameter, 1).float())\n",
    "    print(div_term)\n",
    "\n",
    "    return -torch.cos(x[:, None] / div_term * math.pi)\n",
    "\n",
    "import seaborn as sns\n",
    "sns.heatmap(torch.sigmoid(10*sinusoidal_encode(torch.arange(16).float())).detach().numpy())"
   ]
  },
  {
   "cell_type": "code",
   "execution_count": 104,
   "metadata": {},
   "outputs": [
    {
     "name": "stdout",
     "output_type": "stream",
     "text": [
      "1.0\n"
     ]
    }
   ],
   "source": [
    "print(math.cos((2*4) / (2) *math.pi))"
   ]
  }
 ],
 "metadata": {
  "kernelspec": {
   "display_name": "Python 3",
   "language": "python",
   "name": "python3"
  },
  "language_info": {
   "codemirror_mode": {
    "name": "ipython",
    "version": 3
   },
   "file_extension": ".py",
   "mimetype": "text/x-python",
   "name": "python",
   "nbconvert_exporter": "python",
   "pygments_lexer": "ipython3",
   "version": "3.12.8"
  }
 },
 "nbformat": 4,
 "nbformat_minor": 2
}
